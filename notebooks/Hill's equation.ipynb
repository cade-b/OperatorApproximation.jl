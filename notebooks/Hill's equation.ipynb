{
 "cells": [
  {
   "cell_type": "code",
   "execution_count": 1,
   "id": "9c12581d",
   "metadata": {},
   "outputs": [
    {
     "name": "stderr",
     "output_type": "stream",
     "text": [
      "\u001b[36m\u001b[1m[ \u001b[22m\u001b[39m\u001b[36m\u001b[1mInfo: \u001b[22m\u001b[39mPrecompiling OperatorApproximation [c7ec8986-4b84-48ba-9795-9bd526637602]\n"
     ]
    }
   ],
   "source": [
    "using OperatorApproximation, Plots"
   ]
  },
  {
   "cell_type": "code",
   "execution_count": 25,
   "id": "e34ec128",
   "metadata": {},
   "outputs": [
    {
     "data": {
      "text/plain": [
       "10.206207261596576"
      ]
     },
     "execution_count": 25,
     "metadata": {},
     "output_type": "execute_result"
    }
   ],
   "source": [
    "δ = .08\n",
    "b = 1/(δ^(1)*sqrt(6))\n",
    "c = b^3*δ^2\n",
    "a = (6c)/b;\n",
    "ss = 0.1\n",
    "q0 = x -> 1/a*cos((x)*pi/b-0.1*pi)\n",
    "L = 2*b"
   ]
  },
  {
   "cell_type": "markdown",
   "id": "f8111c0c",
   "metadata": {},
   "source": [
    "## Sparse ultraspherical"
   ]
  },
  {
   "cell_type": "code",
   "execution_count": 26,
   "id": "f821c2c2",
   "metadata": {},
   "outputs": [
    {
     "data": {
      "text/plain": [
       "10-element Vector{Float64}:\n",
       " -0.06362207764739117\n",
       "  0.4323997569320811\n",
       "  1.0388504765965814\n",
       "  1.612500963427311\n",
       "  2.424064506438312\n",
       "  3.4490254818894686\n",
       "  4.670261318616832\n",
       "  6.0848765684448365\n",
       "  7.691119567505878\n",
       "  9.488158884056189"
      ]
     },
     "execution_count": 26,
     "metadata": {},
     "output_type": "execute_result"
    }
   ],
   "source": [
    "gd = ChebyshevMappedInterval(0.0,L)\n",
    "sp = Ultraspherical(0.0,gd);\n",
    "sp2 = Ultraspherical(2.0,gd);\n",
    "D = Derivative()\n",
    "C = Conversion(sp2)\n",
    "M = Multiplication(q0)\n",
    "Op = -D^2 - C*M\n",
    "lbdry = FixedGridValues([0],gd) |> Conversion;\n",
    "rbdry = FixedGridValues([L],gd) |> Conversion;\n",
    "L2 = ((0*lbdry) ⊘ (0*rbdry) ⊘ C)*sp\n",
    "L1 = (lbdry ⊘ rbdry ⊘ Op)*sp;\n",
    "E = eigen(L1,L2,400);\n",
    "(E.values |> real |> sort)[1:10]"
   ]
  },
  {
   "cell_type": "markdown",
   "id": "eefbd635",
   "metadata": {},
   "source": [
    "## Collocation"
   ]
  },
  {
   "cell_type": "code",
   "execution_count": 27,
   "id": "b4e7c9de",
   "metadata": {},
   "outputs": [
    {
     "data": {
      "text/plain": [
       "10-element Vector{Float64}:\n",
       " -0.06362207762131226\n",
       "  0.4323997569417209\n",
       "  1.0388504765566104\n",
       "  1.612500963439636\n",
       "  2.42406450665014\n",
       "  3.44902548190008\n",
       "  4.670261318545289\n",
       "  6.084876568468324\n",
       "  7.691119567768198\n",
       "  9.488158884077857"
      ]
     },
     "execution_count": 27,
     "metadata": {},
     "output_type": "execute_result"
    }
   ],
   "source": [
    "gd = ChebyshevMappedInterval(0.0,L)\n",
    "sp = Ultraspherical(0.0,gd);\n",
    "sp2 = Ultraspherical(2.0,gd);\n",
    "D = Derivative()\n",
    "gv = GridValues(gd)\n",
    "E = Conversion(gv)\n",
    "M = Multiplication(q0)\n",
    "Op = -(E*D^2) - M*E\n",
    "lbdry = FixedGridValues([0],gd) |> Conversion;\n",
    "rbdry = FixedGridValues([L],gd) |> Conversion;\n",
    "L2 = ((0*lbdry) ⊘ (0*rbdry) ⊘ E)*sp\n",
    "L1 = (lbdry ⊘ rbdry ⊘ Op)*sp;\n",
    "E = eigen(L1,L2,400)\n",
    "(E.values |> real |> sort)[1:10]"
   ]
  },
  {
   "cell_type": "code",
   "execution_count": 28,
   "id": "f3cdf977",
   "metadata": {},
   "outputs": [
    {
     "data": {
      "text/plain": [
       "10-element Vector{Float64}:\n",
       " -0.06362207762131226\n",
       "  0.4323997569417209\n",
       "  1.0388504765566104\n",
       "  1.612500963439636\n",
       "  2.42406450665014\n",
       "  3.44902548190008\n",
       "  4.670261318545289\n",
       "  6.084876568468324\n",
       "  7.691119567768198\n",
       "  9.488158884077857"
      ]
     },
     "execution_count": 28,
     "metadata": {},
     "output_type": "execute_result"
    }
   ],
   "source": [
    "dir_evals = (E.values |> real |> sort)[1:10]"
   ]
  },
  {
   "cell_type": "code",
   "execution_count": 29,
   "id": "0e04d788",
   "metadata": {},
   "outputs": [],
   "source": [
    "gd = PeriodicMappedInterval(0.0,2L)\n",
    "sp = Fourier(gd);\n",
    "D = Derivative()\n",
    "M = Multiplication(q0)\n",
    "Op = -D^2 - M\n",
    "L1 = Op*sp;\n",
    "E = eigen(L1,300);\n",
    "evals = E.values |> real |> sort;"
   ]
  },
  {
   "cell_type": "code",
   "execution_count": 30,
   "id": "f7115805",
   "metadata": {},
   "outputs": [
    {
     "data": {
      "text/plain": [
       "-0.5903366434877294"
      ]
     },
     "execution_count": 30,
     "metadata": {},
     "output_type": "execute_result"
    }
   ],
   "source": [
    "α1 = evals[1] |> real"
   ]
  },
  {
   "cell_type": "code",
   "execution_count": 31,
   "id": "6c2d867a",
   "metadata": {},
   "outputs": [
    {
     "data": {
      "text/plain": [
       "10×2 Matrix{Float64}:\n",
       " -0.589564  0.160649\n",
       "  0.180168  0.718802\n",
       "  0.873261  1.11822\n",
       "  1.58261   1.63404\n",
       "  2.4224    2.42721\n",
       "  3.44882   3.44908\n",
       "  4.67026   4.67027\n",
       "  6.08488   6.08488\n",
       "  7.69112   7.69112\n",
       "  9.48816   9.48816"
      ]
     },
     "execution_count": 31,
     "metadata": {},
     "output_type": "execute_result"
    }
   ],
   "source": [
    "gaps = hcat(evals[2:2:20] |> real,evals[3:2:21] |> real)"
   ]
  },
  {
   "cell_type": "markdown",
   "id": "3cdc0a29",
   "metadata": {},
   "source": [
    "### Should be one Dirichlet eigenvalue in each gap"
   ]
  },
  {
   "cell_type": "code",
   "execution_count": 32,
   "id": "d6108230",
   "metadata": {},
   "outputs": [
    {
     "data": {
      "text/plain": [
       "10×3 Matrix{Float64}:\n",
       " -0.589564  0.160649  -0.0636221\n",
       "  0.180168  0.718802   0.4324\n",
       "  0.873261  1.11822    1.03885\n",
       "  1.58261   1.63404    1.6125\n",
       "  2.4224    2.42721    2.42406\n",
       "  3.44882   3.44908    3.44903\n",
       "  4.67026   4.67027    4.67026\n",
       "  6.08488   6.08488    6.08488\n",
       "  7.69112   7.69112    7.69112\n",
       "  9.48816   9.48816    9.48816"
      ]
     },
     "execution_count": 32,
     "metadata": {},
     "output_type": "execute_result"
    }
   ],
   "source": [
    "hcat(gaps,dir_evals) "
   ]
  },
  {
   "cell_type": "code",
   "execution_count": 24,
   "id": "a3835a41",
   "metadata": {},
   "outputs": [
    {
     "data": {
      "image/png": "[encoded data removed]",
      "image/svg+xml": [
       "<?xml version=\"1.0\" encoding=\"utf-8\"?>\n",
       "<svg xmlns=\"http://www.w3.org/2000/svg\" xmlns:xlink=\"http://www.w3.org/1999/xlink\" width=\"600\" height=\"400\" viewBox=\"0 0 2400 1600\">\n",
       "<defs>\n",
       "  <clipPath id=\"clip940\">\n",
       "    <rect x=\"0\" y=\"0\" width=\"2400\" height=\"1600\"/>\n",
       "  </clipPath>\n",
       "</defs>\n",
       "<path clip-path=\"url(#clip940)\" d=\"M0 1600 L2400 1600 L2400 0 L0 0  Z\" fill=\"#ffffff\" fill-rule=\"evenodd\" fill-opacity=\"1\"/>\n",
       "<defs>\n",
       "  <clipPath id=\"clip941\">\n",
       "    <rect x=\"480\" y=\"0\" width=\"1681\" height=\"1600\"/>\n",
       "  </clipPath>\n",
       "</defs>\n",
       "<path clip-path=\"url(#clip940)\" d=\"M193.936 1486.45 L2352.76 1486.45 L2352.76 47.2441 L193.936 47.2441  Z\" fill=\"#ffffff\" fill-rule=\"evenodd\" fill-opacity=\"1\"/>\n",
       "<defs>\n",
       "  <clipPath id=\"clip942\">\n",
       "    <rect x=\"193\" y=\"47\" width=\"2160\" height=\"1440\"/>\n",
       "  </clipPath>\n",
       "</defs>\n",
       "<polyline clip-path=\"url(#clip942)\" style=\"stroke:#000000; stroke-linecap:round; stroke-linejoin:round; stroke-width:2; stroke-opacity:0.1; fill:none\" points=\"318.63,1486.45 318.63,47.2441 \"/>\n",
       "<polyline clip-path=\"url(#clip942)\" style=\"stroke:#000000; stroke-linecap:round; stroke-linejoin:round; stroke-width:2; stroke-opacity:0.1; fill:none\" points=\"962.916,1486.45 962.916,47.2441 \"/>\n",
       "<polyline clip-path=\"url(#clip942)\" style=\"stroke:#000000; stroke-linecap:round; stroke-linejoin:round; stroke-width:2; stroke-opacity:0.1; fill:none\" points=\"1607.2,1486.45 1607.2,47.2441 \"/>\n",
       "<polyline clip-path=\"url(#clip942)\" style=\"stroke:#000000; stroke-linecap:round; stroke-linejoin:round; stroke-width:2; stroke-opacity:0.1; fill:none\" points=\"2251.49,1486.45 2251.49,47.2441 \"/>\n",
       "<polyline clip-path=\"url(#clip940)\" style=\"stroke:#000000; stroke-linecap:round; stroke-linejoin:round; stroke-width:4; stroke-opacity:1; fill:none\" points=\"193.936,1486.45 2352.76,1486.45 \"/>\n",
       "<polyline clip-path=\"url(#clip940)\" style=\"stroke:#000000; stroke-linecap:round; stroke-linejoin:round; stroke-width:4; stroke-opacity:1; fill:none\" points=\"318.63,1486.45 318.63,1467.55 \"/>\n",
       "<polyline clip-path=\"url(#clip940)\" style=\"stroke:#000000; stroke-linecap:round; stroke-linejoin:round; stroke-width:4; stroke-opacity:1; fill:none\" points=\"962.916,1486.45 962.916,1467.55 \"/>\n",
       "<polyline clip-path=\"url(#clip940)\" style=\"stroke:#000000; stroke-linecap:round; stroke-linejoin:round; stroke-width:4; stroke-opacity:1; fill:none\" points=\"1607.2,1486.45 1607.2,1467.55 \"/>\n",
       "<polyline clip-path=\"url(#clip940)\" style=\"stroke:#000000; stroke-linecap:round; stroke-linejoin:round; stroke-width:4; stroke-opacity:1; fill:none\" points=\"2251.49,1486.45 2251.49,1467.55 \"/>\n",
       "<path clip-path=\"url(#clip940)\" d=\"M318.63 1517.37 Q315.019 1517.37 313.19 1520.93 Q311.384 1524.47 311.384 1531.6 Q311.384 1538.71 313.19 1542.27 Q315.019 1545.82 318.63 1545.82 Q322.264 1545.82 324.069 1542.27 Q325.898 1538.71 325.898 1531.6 Q325.898 1524.47 324.069 1520.93 Q322.264 1517.37 318.63 1517.37 M318.63 1513.66 Q324.44 1513.66 327.495 1518.27 Q330.574 1522.85 330.574 1531.6 Q330.574 1540.33 327.495 1544.94 Q324.44 1549.52 318.63 1549.52 Q312.819 1549.52 309.741 1544.94 Q306.685 1540.33 306.685 1531.6 Q306.685 1522.85 309.741 1518.27 Q312.819 1513.66 318.63 1513.66 Z\" fill=\"#000000\" fill-rule=\"nonzero\" fill-opacity=\"1\" /><path clip-path=\"url(#clip940)\" d=\"M953.194 1514.29 L971.551 1514.29 L971.551 1518.22 L957.477 1518.22 L957.477 1526.7 Q958.495 1526.35 959.514 1526.19 Q960.532 1526 961.551 1526 Q967.338 1526 970.717 1529.17 Q974.097 1532.34 974.097 1537.76 Q974.097 1543.34 970.625 1546.44 Q967.152 1549.52 960.833 1549.52 Q958.657 1549.52 956.389 1549.15 Q954.143 1548.78 951.736 1548.04 L951.736 1543.34 Q953.819 1544.47 956.041 1545.03 Q958.264 1545.58 960.74 1545.58 Q964.745 1545.58 967.083 1543.48 Q969.421 1541.37 969.421 1537.76 Q969.421 1534.15 967.083 1532.04 Q964.745 1529.94 960.74 1529.94 Q958.865 1529.94 956.99 1530.35 Q955.139 1530.77 953.194 1531.65 L953.194 1514.29 Z\" fill=\"#000000\" fill-rule=\"nonzero\" fill-opacity=\"1\" /><path clip-path=\"url(#clip940)\" d=\"M1581.89 1544.91 L1589.53 1544.91 L1589.53 1518.55 L1581.22 1520.21 L1581.22 1515.95 L1589.48 1514.29 L1594.16 1514.29 L1594.16 1544.91 L1601.8 1544.91 L1601.8 1548.85 L1581.89 1548.85 L1581.89 1544.91 Z\" fill=\"#000000\" fill-rule=\"nonzero\" fill-opacity=\"1\" /><path clip-path=\"url(#clip940)\" d=\"M1621.24 1517.37 Q1617.63 1517.37 1615.8 1520.93 Q1614 1524.47 1614 1531.6 Q1614 1538.71 1615.8 1542.27 Q1617.63 1545.82 1621.24 1545.82 Q1624.88 1545.82 1626.68 1542.27 Q1628.51 1538.71 1628.51 1531.6 Q1628.51 1524.47 1626.68 1520.93 Q1624.88 1517.37 1621.24 1517.37 M1621.24 1513.66 Q1627.05 1513.66 1630.11 1518.27 Q1633.19 1522.85 1633.19 1531.6 Q1633.19 1540.33 1630.11 1544.94 Q1627.05 1549.52 1621.24 1549.52 Q1615.43 1549.52 1612.35 1544.94 Q1609.3 1540.33 1609.3 1531.6 Q1609.3 1522.85 1612.35 1518.27 Q1615.43 1513.66 1621.24 1513.66 Z\" fill=\"#000000\" fill-rule=\"nonzero\" fill-opacity=\"1\" /><path clip-path=\"url(#clip940)\" d=\"M2226.68 1544.91 L2234.31 1544.91 L2234.31 1518.55 L2226 1520.21 L2226 1515.95 L2234.27 1514.29 L2238.94 1514.29 L2238.94 1544.91 L2246.58 1544.91 L2246.58 1548.85 L2226.68 1548.85 L2226.68 1544.91 Z\" fill=\"#000000\" fill-rule=\"nonzero\" fill-opacity=\"1\" /><path clip-path=\"url(#clip940)\" d=\"M2256.07 1514.29 L2274.43 1514.29 L2274.43 1518.22 L2260.36 1518.22 L2260.36 1526.7 Q2261.37 1526.35 2262.39 1526.19 Q2263.41 1526 2264.43 1526 Q2270.22 1526 2273.6 1529.17 Q2276.98 1532.34 2276.98 1537.76 Q2276.98 1543.34 2273.5 1546.44 Q2270.03 1549.52 2263.71 1549.52 Q2261.54 1549.52 2259.27 1549.15 Q2257.02 1548.78 2254.61 1548.04 L2254.61 1543.34 Q2256.7 1544.47 2258.92 1545.03 Q2261.14 1545.58 2263.62 1545.58 Q2267.62 1545.58 2269.96 1543.48 Q2272.3 1541.37 2272.3 1537.76 Q2272.3 1534.15 2269.96 1532.04 Q2267.62 1529.94 2263.62 1529.94 Q2261.74 1529.94 2259.87 1530.35 Q2258.02 1530.77 2256.07 1531.65 L2256.07 1514.29 Z\" fill=\"#000000\" fill-rule=\"nonzero\" fill-opacity=\"1\" /><polyline clip-path=\"url(#clip942)\" style=\"stroke:#000000; stroke-linecap:round; stroke-linejoin:round; stroke-width:2; stroke-opacity:0.1; fill:none\" points=\"193.936,1486.45 2352.76,1486.45 \"/>\n",
       "<polyline clip-path=\"url(#clip942)\" style=\"stroke:#000000; stroke-linecap:round; stroke-linejoin:round; stroke-width:2; stroke-opacity:0.1; fill:none\" points=\"193.936,1126.65 2352.76,1126.65 \"/>\n",
       "<polyline clip-path=\"url(#clip942)\" style=\"stroke:#000000; stroke-linecap:round; stroke-linejoin:round; stroke-width:2; stroke-opacity:0.1; fill:none\" points=\"193.936,766.846 2352.76,766.846 \"/>\n",
       "<polyline clip-path=\"url(#clip942)\" style=\"stroke:#000000; stroke-linecap:round; stroke-linejoin:round; stroke-width:2; stroke-opacity:0.1; fill:none\" points=\"193.936,407.045 2352.76,407.045 \"/>\n",
       "<polyline clip-path=\"url(#clip942)\" style=\"stroke:#000000; stroke-linecap:round; stroke-linejoin:round; stroke-width:2; stroke-opacity:0.1; fill:none\" points=\"193.936,47.2441 2352.76,47.2441 \"/>\n",
       "<polyline clip-path=\"url(#clip940)\" style=\"stroke:#000000; stroke-linecap:round; stroke-linejoin:round; stroke-width:4; stroke-opacity:1; fill:none\" points=\"193.936,1486.45 193.936,47.2441 \"/>\n",
       "<polyline clip-path=\"url(#clip940)\" style=\"stroke:#000000; stroke-linecap:round; stroke-linejoin:round; stroke-width:4; stroke-opacity:1; fill:none\" points=\"193.936,1486.45 212.834,1486.45 \"/>\n",
       "<polyline clip-path=\"url(#clip940)\" style=\"stroke:#000000; stroke-linecap:round; stroke-linejoin:round; stroke-width:4; stroke-opacity:1; fill:none\" points=\"193.936,1126.65 212.834,1126.65 \"/>\n",
       "<polyline clip-path=\"url(#clip940)\" style=\"stroke:#000000; stroke-linecap:round; stroke-linejoin:round; stroke-width:4; stroke-opacity:1; fill:none\" points=\"193.936,766.846 212.834,766.846 \"/>\n",
       "<polyline clip-path=\"url(#clip940)\" style=\"stroke:#000000; stroke-linecap:round; stroke-linejoin:round; stroke-width:4; stroke-opacity:1; fill:none\" points=\"193.936,407.045 212.834,407.045 \"/>\n",
       "<polyline clip-path=\"url(#clip940)\" style=\"stroke:#000000; stroke-linecap:round; stroke-linejoin:round; stroke-width:4; stroke-opacity:1; fill:none\" points=\"193.936,47.2441 212.834,47.2441 \"/>\n",
       "<path clip-path=\"url(#clip940)\" d=\"M50.9921 1486.9 L80.6679 1486.9 L80.6679 1490.83 L50.9921 1490.83 L50.9921 1486.9 Z\" fill=\"#000000\" fill-rule=\"nonzero\" fill-opacity=\"1\" /><path clip-path=\"url(#clip940)\" d=\"M91.5706 1499.79 L99.2095 1499.79 L99.2095 1473.43 L90.8993 1475.09 L90.8993 1470.83 L99.1632 1469.17 L103.839 1469.17 L103.839 1499.79 L111.478 1499.79 L111.478 1503.73 L91.5706 1503.73 L91.5706 1499.79 Z\" fill=\"#000000\" fill-rule=\"nonzero\" fill-opacity=\"1\" /><path clip-path=\"url(#clip940)\" d=\"M120.922 1497.85 L125.807 1497.85 L125.807 1503.73 L120.922 1503.73 L120.922 1497.85 Z\" fill=\"#000000\" fill-rule=\"nonzero\" fill-opacity=\"1\" /><path clip-path=\"url(#clip940)\" d=\"M145.992 1472.25 Q142.381 1472.25 140.552 1475.81 Q138.746 1479.35 138.746 1486.48 Q138.746 1493.59 140.552 1497.15 Q142.381 1500.7 145.992 1500.7 Q149.626 1500.7 151.431 1497.15 Q153.26 1493.59 153.26 1486.48 Q153.26 1479.35 151.431 1475.81 Q149.626 1472.25 145.992 1472.25 M145.992 1468.54 Q151.802 1468.54 154.857 1473.15 Q157.936 1477.73 157.936 1486.48 Q157.936 1495.21 154.857 1499.82 Q151.802 1504.4 145.992 1504.4 Q140.181 1504.4 137.103 1499.82 Q134.047 1495.21 134.047 1486.48 Q134.047 1477.73 137.103 1473.15 Q140.181 1468.54 145.992 1468.54 Z\" fill=\"#000000\" fill-rule=\"nonzero\" fill-opacity=\"1\" /><path clip-path=\"url(#clip940)\" d=\"M51.9875 1127.1 L81.6633 1127.1 L81.6633 1131.03 L51.9875 1131.03 L51.9875 1127.1 Z\" fill=\"#000000\" fill-rule=\"nonzero\" fill-opacity=\"1\" /><path clip-path=\"url(#clip940)\" d=\"M101.756 1112.45 Q98.1447 1112.45 96.316 1116.01 Q94.5104 1119.55 94.5104 1126.68 Q94.5104 1133.79 96.316 1137.35 Q98.1447 1140.89 101.756 1140.89 Q105.39 1140.89 107.196 1137.35 Q109.024 1133.79 109.024 1126.68 Q109.024 1119.55 107.196 1116.01 Q105.39 1112.45 101.756 1112.45 M101.756 1108.74 Q107.566 1108.74 110.621 1113.35 Q113.7 1117.93 113.7 1126.68 Q113.7 1135.41 110.621 1140.01 Q107.566 1144.6 101.756 1144.6 Q95.9456 1144.6 92.8669 1140.01 Q89.8114 1135.41 89.8114 1126.68 Q89.8114 1117.93 92.8669 1113.35 Q95.9456 1108.74 101.756 1108.74 Z\" fill=\"#000000\" fill-rule=\"nonzero\" fill-opacity=\"1\" /><path clip-path=\"url(#clip940)\" d=\"M121.918 1138.05 L126.802 1138.05 L126.802 1143.93 L121.918 1143.93 L121.918 1138.05 Z\" fill=\"#000000\" fill-rule=\"nonzero\" fill-opacity=\"1\" /><path clip-path=\"url(#clip940)\" d=\"M137.033 1109.37 L155.39 1109.37 L155.39 1113.3 L141.316 1113.3 L141.316 1121.77 Q142.334 1121.43 143.353 1121.27 Q144.371 1121.08 145.39 1121.08 Q151.177 1121.08 154.556 1124.25 Q157.936 1127.42 157.936 1132.84 Q157.936 1138.42 154.464 1141.52 Q150.992 1144.6 144.672 1144.6 Q142.496 1144.6 140.228 1144.23 Q137.982 1143.86 135.575 1143.12 L135.575 1138.42 Q137.658 1139.55 139.881 1140.11 Q142.103 1140.66 144.58 1140.66 Q148.584 1140.66 150.922 1138.56 Q153.26 1136.45 153.26 1132.84 Q153.26 1129.23 150.922 1127.12 Q148.584 1125.01 144.58 1125.01 Q142.705 1125.01 140.83 1125.43 Q138.978 1125.85 137.033 1126.73 L137.033 1109.37 Z\" fill=\"#000000\" fill-rule=\"nonzero\" fill-opacity=\"1\" /><path clip-path=\"url(#clip940)\" d=\"M100.76 752.645 Q97.1493 752.645 95.3206 756.209 Q93.515 759.751 93.515 766.881 Q93.515 773.987 95.3206 777.552 Q97.1493 781.094 100.76 781.094 Q104.395 781.094 106.2 777.552 Q108.029 773.987 108.029 766.881 Q108.029 759.751 106.2 756.209 Q104.395 752.645 100.76 752.645 M100.76 748.941 Q106.571 748.941 109.626 753.547 Q112.705 758.131 112.705 766.881 Q112.705 775.608 109.626 780.214 Q106.571 784.797 100.76 784.797 Q94.9502 784.797 91.8715 780.214 Q88.816 775.608 88.816 766.881 Q88.816 758.131 91.8715 753.547 Q94.9502 748.941 100.76 748.941 Z\" fill=\"#000000\" fill-rule=\"nonzero\" fill-opacity=\"1\" /><path clip-path=\"url(#clip940)\" d=\"M120.922 778.246 L125.807 778.246 L125.807 784.126 L120.922 784.126 L120.922 778.246 Z\" fill=\"#000000\" fill-rule=\"nonzero\" fill-opacity=\"1\" /><path clip-path=\"url(#clip940)\" d=\"M145.992 752.645 Q142.381 752.645 140.552 756.209 Q138.746 759.751 138.746 766.881 Q138.746 773.987 140.552 777.552 Q142.381 781.094 145.992 781.094 Q149.626 781.094 151.431 777.552 Q153.26 773.987 153.26 766.881 Q153.26 759.751 151.431 756.209 Q149.626 752.645 145.992 752.645 M145.992 748.941 Q151.802 748.941 154.857 753.547 Q157.936 758.131 157.936 766.881 Q157.936 775.608 154.857 780.214 Q151.802 784.797 145.992 784.797 Q140.181 784.797 137.103 780.214 Q134.047 775.608 134.047 766.881 Q134.047 758.131 137.103 753.547 Q140.181 748.941 145.992 748.941 Z\" fill=\"#000000\" fill-rule=\"nonzero\" fill-opacity=\"1\" /><path clip-path=\"url(#clip940)\" d=\"M101.756 392.844 Q98.1447 392.844 96.316 396.409 Q94.5104 399.95 94.5104 407.08 Q94.5104 414.186 96.316 417.751 Q98.1447 421.293 101.756 421.293 Q105.39 421.293 107.196 417.751 Q109.024 414.186 109.024 407.08 Q109.024 399.95 107.196 396.409 Q105.39 392.844 101.756 392.844 M101.756 389.14 Q107.566 389.14 110.621 393.746 Q113.7 398.33 113.7 407.08 Q113.7 415.807 110.621 420.413 Q107.566 424.996 101.756 424.996 Q95.9456 424.996 92.8669 420.413 Q89.8114 415.807 89.8114 407.08 Q89.8114 398.33 92.8669 393.746 Q95.9456 389.14 101.756 389.14 Z\" fill=\"#000000\" fill-rule=\"nonzero\" fill-opacity=\"1\" /><path clip-path=\"url(#clip940)\" d=\"M121.918 418.445 L126.802 418.445 L126.802 424.325 L121.918 424.325 L121.918 418.445 Z\" fill=\"#000000\" fill-rule=\"nonzero\" fill-opacity=\"1\" /><path clip-path=\"url(#clip940)\" d=\"M137.033 389.765 L155.39 389.765 L155.39 393.7 L141.316 393.7 L141.316 402.172 Q142.334 401.825 143.353 401.663 Q144.371 401.478 145.39 401.478 Q151.177 401.478 154.556 404.649 Q157.936 407.82 157.936 413.237 Q157.936 418.816 154.464 421.918 Q150.992 424.996 144.672 424.996 Q142.496 424.996 140.228 424.626 Q137.982 424.256 135.575 423.515 L135.575 418.816 Q137.658 419.95 139.881 420.506 Q142.103 421.061 144.58 421.061 Q148.584 421.061 150.922 418.955 Q153.26 416.848 153.26 413.237 Q153.26 409.626 150.922 407.52 Q148.584 405.413 144.58 405.413 Q142.705 405.413 140.83 405.83 Q138.978 406.246 137.033 407.126 L137.033 389.765 Z\" fill=\"#000000\" fill-rule=\"nonzero\" fill-opacity=\"1\" /><path clip-path=\"url(#clip940)\" d=\"M91.5706 60.5889 L99.2095 60.5889 L99.2095 34.2233 L90.8993 35.89 L90.8993 31.6308 L99.1632 29.9641 L103.839 29.9641 L103.839 60.5889 L111.478 60.5889 L111.478 64.5241 L91.5706 64.5241 L91.5706 60.5889 Z\" fill=\"#000000\" fill-rule=\"nonzero\" fill-opacity=\"1\" /><path clip-path=\"url(#clip940)\" d=\"M120.922 58.6445 L125.807 58.6445 L125.807 64.5241 L120.922 64.5241 L120.922 58.6445 Z\" fill=\"#000000\" fill-rule=\"nonzero\" fill-opacity=\"1\" /><path clip-path=\"url(#clip940)\" d=\"M145.992 33.0428 Q142.381 33.0428 140.552 36.6076 Q138.746 40.1492 138.746 47.2788 Q138.746 54.3853 140.552 57.9501 Q142.381 61.4917 145.992 61.4917 Q149.626 61.4917 151.431 57.9501 Q153.26 54.3853 153.26 47.2788 Q153.26 40.1492 151.431 36.6076 Q149.626 33.0428 145.992 33.0428 M145.992 29.3391 Q151.802 29.3391 154.857 33.9456 Q157.936 38.5289 157.936 47.2788 Q157.936 56.0056 154.857 60.6121 Q151.802 65.1954 145.992 65.1954 Q140.181 65.1954 137.103 60.6121 Q134.047 56.0056 134.047 47.2788 Q134.047 38.5289 137.103 33.9456 Q140.181 29.3391 145.992 29.3391 Z\" fill=\"#000000\" fill-rule=\"nonzero\" fill-opacity=\"1\" /><circle clip-path=\"url(#clip942)\" cx=\"255.035\" cy=\"766.846\" r=\"14.4\" fill=\"#009af9\" fill-rule=\"evenodd\" fill-opacity=\"1\" stroke=\"#000000\" stroke-opacity=\"1\" stroke-width=\"3.2\"/>\n",
       "<circle clip-path=\"url(#clip942)\" cx=\"377.611\" cy=\"766.846\" r=\"14.4\" fill=\"#009af9\" fill-rule=\"evenodd\" fill-opacity=\"1\" stroke=\"#000000\" stroke-opacity=\"1\" stroke-width=\"3.2\"/>\n",
       "<circle clip-path=\"url(#clip942)\" cx=\"494.975\" cy=\"766.846\" r=\"14.4\" fill=\"#009af9\" fill-rule=\"evenodd\" fill-opacity=\"1\" stroke=\"#000000\" stroke-opacity=\"1\" stroke-width=\"3.2\"/>\n",
       "<circle clip-path=\"url(#clip942)\" cx=\"630.289\" cy=\"766.846\" r=\"14.4\" fill=\"#009af9\" fill-rule=\"evenodd\" fill-opacity=\"1\" stroke=\"#000000\" stroke-opacity=\"1\" stroke-width=\"3.2\"/>\n",
       "<circle clip-path=\"url(#clip942)\" cx=\"800.059\" cy=\"766.846\" r=\"14.4\" fill=\"#009af9\" fill-rule=\"evenodd\" fill-opacity=\"1\" stroke=\"#000000\" stroke-opacity=\"1\" stroke-width=\"3.2\"/>\n",
       "<circle clip-path=\"url(#clip942)\" cx=\"1008.5\" cy=\"766.846\" r=\"14.4\" fill=\"#009af9\" fill-rule=\"evenodd\" fill-opacity=\"1\" stroke=\"#000000\" stroke-opacity=\"1\" stroke-width=\"3.2\"/>\n",
       "<circle clip-path=\"url(#clip942)\" cx=\"1255.65\" cy=\"766.846\" r=\"14.4\" fill=\"#009af9\" fill-rule=\"evenodd\" fill-opacity=\"1\" stroke=\"#000000\" stroke-opacity=\"1\" stroke-width=\"3.2\"/>\n",
       "<circle clip-path=\"url(#clip942)\" cx=\"1541.26\" cy=\"766.846\" r=\"14.4\" fill=\"#009af9\" fill-rule=\"evenodd\" fill-opacity=\"1\" stroke=\"#000000\" stroke-opacity=\"1\" stroke-width=\"3.2\"/>\n",
       "<circle clip-path=\"url(#clip942)\" cx=\"1865.19\" cy=\"766.846\" r=\"14.4\" fill=\"#009af9\" fill-rule=\"evenodd\" fill-opacity=\"1\" stroke=\"#000000\" stroke-opacity=\"1\" stroke-width=\"3.2\"/>\n",
       "<circle clip-path=\"url(#clip942)\" cx=\"2227.39\" cy=\"766.846\" r=\"14.4\" fill=\"#009af9\" fill-rule=\"evenodd\" fill-opacity=\"1\" stroke=\"#000000\" stroke-opacity=\"1\" stroke-width=\"3.2\"/>\n",
       "<circle clip-path=\"url(#clip942)\" cx=\"365.922\" cy=\"766.846\" r=\"14.4\" fill=\"#ff0000\" fill-rule=\"evenodd\" fill-opacity=\"1\" stroke=\"#000000\" stroke-opacity=\"1\" stroke-width=\"3.2\"/>\n",
       "<circle clip-path=\"url(#clip942)\" cx=\"439.891\" cy=\"766.846\" r=\"14.4\" fill=\"#ff0000\" fill-rule=\"evenodd\" fill-opacity=\"1\" stroke=\"#000000\" stroke-opacity=\"1\" stroke-width=\"3.2\"/>\n",
       "<circle clip-path=\"url(#clip942)\" cx=\"512.835\" cy=\"766.846\" r=\"14.4\" fill=\"#ff0000\" fill-rule=\"evenodd\" fill-opacity=\"1\" stroke=\"#000000\" stroke-opacity=\"1\" stroke-width=\"3.2\"/>\n",
       "<circle clip-path=\"url(#clip942)\" cx=\"632.276\" cy=\"766.846\" r=\"14.4\" fill=\"#ff0000\" fill-rule=\"evenodd\" fill-opacity=\"1\" stroke=\"#000000\" stroke-opacity=\"1\" stroke-width=\"3.2\"/>\n",
       "<circle clip-path=\"url(#clip942)\" cx=\"800.168\" cy=\"766.846\" r=\"14.4\" fill=\"#ff0000\" fill-rule=\"evenodd\" fill-opacity=\"1\" stroke=\"#000000\" stroke-opacity=\"1\" stroke-width=\"3.2\"/>\n",
       "<circle clip-path=\"url(#clip942)\" cx=\"1008.51\" cy=\"766.846\" r=\"14.4\" fill=\"#ff0000\" fill-rule=\"evenodd\" fill-opacity=\"1\" stroke=\"#000000\" stroke-opacity=\"1\" stroke-width=\"3.2\"/>\n",
       "<circle clip-path=\"url(#clip942)\" cx=\"1255.65\" cy=\"766.846\" r=\"14.4\" fill=\"#ff0000\" fill-rule=\"evenodd\" fill-opacity=\"1\" stroke=\"#000000\" stroke-opacity=\"1\" stroke-width=\"3.2\"/>\n",
       "<circle clip-path=\"url(#clip942)\" cx=\"1541.26\" cy=\"766.846\" r=\"14.4\" fill=\"#ff0000\" fill-rule=\"evenodd\" fill-opacity=\"1\" stroke=\"#000000\" stroke-opacity=\"1\" stroke-width=\"3.2\"/>\n",
       "<circle clip-path=\"url(#clip942)\" cx=\"1865.19\" cy=\"766.846\" r=\"14.4\" fill=\"#ff0000\" fill-rule=\"evenodd\" fill-opacity=\"1\" stroke=\"#000000\" stroke-opacity=\"1\" stroke-width=\"3.2\"/>\n",
       "<circle clip-path=\"url(#clip942)\" cx=\"2227.39\" cy=\"766.846\" r=\"14.4\" fill=\"#ff0000\" fill-rule=\"evenodd\" fill-opacity=\"1\" stroke=\"#000000\" stroke-opacity=\"1\" stroke-width=\"3.2\"/>\n",
       "<circle clip-path=\"url(#clip942)\" cx=\"404.318\" cy=\"766.846\" r=\"14.4\" fill=\"#008000\" fill-rule=\"evenodd\" fill-opacity=\"1\" stroke=\"#000000\" stroke-opacity=\"1\" stroke-width=\"3.2\"/>\n",
       "<circle clip-path=\"url(#clip942)\" cx=\"468.976\" cy=\"766.846\" r=\"14.4\" fill=\"#008000\" fill-rule=\"evenodd\" fill-opacity=\"1\" stroke=\"#000000\" stroke-opacity=\"1\" stroke-width=\"3.2\"/>\n",
       "<circle clip-path=\"url(#clip942)\" cx=\"571.84\" cy=\"766.846\" r=\"14.4\" fill=\"#008000\" fill-rule=\"evenodd\" fill-opacity=\"1\" stroke=\"#000000\" stroke-opacity=\"1\" stroke-width=\"3.2\"/>\n",
       "<circle clip-path=\"url(#clip942)\" cx=\"695.519\" cy=\"766.846\" r=\"14.4\" fill=\"#008000\" fill-rule=\"evenodd\" fill-opacity=\"1\" stroke=\"#000000\" stroke-opacity=\"1\" stroke-width=\"3.2\"/>\n",
       "<circle clip-path=\"url(#clip942)\" cx=\"864.374\" cy=\"766.846\" r=\"14.4\" fill=\"#008000\" fill-rule=\"evenodd\" fill-opacity=\"1\" stroke=\"#000000\" stroke-opacity=\"1\" stroke-width=\"3.2\"/>\n",
       "<circle clip-path=\"url(#clip942)\" cx=\"1072.78\" cy=\"766.846\" r=\"14.4\" fill=\"#008000\" fill-rule=\"evenodd\" fill-opacity=\"1\" stroke=\"#000000\" stroke-opacity=\"1\" stroke-width=\"3.2\"/>\n",
       "<circle clip-path=\"url(#clip942)\" cx=\"1319.92\" cy=\"766.846\" r=\"14.4\" fill=\"#008000\" fill-rule=\"evenodd\" fill-opacity=\"1\" stroke=\"#000000\" stroke-opacity=\"1\" stroke-width=\"3.2\"/>\n",
       "<circle clip-path=\"url(#clip942)\" cx=\"1605.53\" cy=\"766.846\" r=\"14.4\" fill=\"#008000\" fill-rule=\"evenodd\" fill-opacity=\"1\" stroke=\"#000000\" stroke-opacity=\"1\" stroke-width=\"3.2\"/>\n",
       "<circle clip-path=\"url(#clip942)\" cx=\"1929.46\" cy=\"766.846\" r=\"14.4\" fill=\"#008000\" fill-rule=\"evenodd\" fill-opacity=\"1\" stroke=\"#000000\" stroke-opacity=\"1\" stroke-width=\"3.2\"/>\n",
       "<circle clip-path=\"url(#clip942)\" cx=\"2291.66\" cy=\"766.846\" r=\"14.4\" fill=\"#008000\" fill-rule=\"evenodd\" fill-opacity=\"1\" stroke=\"#000000\" stroke-opacity=\"1\" stroke-width=\"3.2\"/>\n",
       "<path clip-path=\"url(#clip940)\" d=\"M2011.9 302.578 L2280.8 302.578 L2280.8 95.2176 L2011.9 95.2176  Z\" fill=\"#ffffff\" fill-rule=\"evenodd\" fill-opacity=\"1\"/>\n",
       "<polyline clip-path=\"url(#clip940)\" style=\"stroke:#000000; stroke-linecap:round; stroke-linejoin:round; stroke-width:4; stroke-opacity:1; fill:none\" points=\"2011.9,302.578 2280.8,302.578 2280.8,95.2176 2011.9,95.2176 2011.9,302.578 \"/>\n",
       "<circle clip-path=\"url(#clip940)\" cx=\"2107.85\" cy=\"147.058\" r=\"20.48\" fill=\"#009af9\" fill-rule=\"evenodd\" fill-opacity=\"1\" stroke=\"#000000\" stroke-opacity=\"1\" stroke-width=\"4.55111\"/>\n",
       "<path clip-path=\"url(#clip940)\" d=\"M2217.64 166.745 Q2215.84 171.375 2214.12 172.787 Q2212.41 174.199 2209.54 174.199 L2206.14 174.199 L2206.14 170.634 L2208.64 170.634 Q2210.4 170.634 2211.37 169.8 Q2212.34 168.967 2213.52 165.865 L2214.29 163.921 L2203.8 138.412 L2208.31 138.412 L2216.42 158.689 L2224.52 138.412 L2229.03 138.412 L2217.64 166.745 Z\" fill=\"#000000\" fill-rule=\"nonzero\" fill-opacity=\"1\" /><path clip-path=\"url(#clip940)\" d=\"M2236.32 160.402 L2243.96 160.402 L2243.96 134.037 L2235.65 135.703 L2235.65 131.444 L2243.91 129.778 L2248.59 129.778 L2248.59 160.402 L2256.23 160.402 L2256.23 164.338 L2236.32 164.338 L2236.32 160.402 Z\" fill=\"#000000\" fill-rule=\"nonzero\" fill-opacity=\"1\" /><circle clip-path=\"url(#clip940)\" cx=\"2107.85\" cy=\"198.898\" r=\"20.48\" fill=\"#ff0000\" fill-rule=\"evenodd\" fill-opacity=\"1\" stroke=\"#000000\" stroke-opacity=\"1\" stroke-width=\"4.55111\"/>\n",
       "<path clip-path=\"url(#clip940)\" d=\"M2217.64 218.585 Q2215.84 223.215 2214.12 224.627 Q2212.41 226.039 2209.54 226.039 L2206.14 226.039 L2206.14 222.474 L2208.64 222.474 Q2210.4 222.474 2211.37 221.64 Q2212.34 220.807 2213.52 217.705 L2214.29 215.761 L2203.8 190.252 L2208.31 190.252 L2216.42 210.529 L2224.52 190.252 L2229.03 190.252 L2217.64 218.585 Z\" fill=\"#000000\" fill-rule=\"nonzero\" fill-opacity=\"1\" /><path clip-path=\"url(#clip940)\" d=\"M2239.54 212.242 L2255.86 212.242 L2255.86 216.178 L2233.91 216.178 L2233.91 212.242 Q2236.58 209.488 2241.16 204.858 Q2245.77 200.205 2246.95 198.863 Q2249.19 196.34 2250.07 194.604 Q2250.98 192.844 2250.98 191.155 Q2250.98 188.4 2249.03 186.664 Q2247.11 184.928 2244.01 184.928 Q2241.81 184.928 2239.35 185.692 Q2236.92 186.455 2234.15 188.006 L2234.15 183.284 Q2236.97 182.15 2239.42 181.571 Q2241.88 180.993 2243.91 180.993 Q2249.29 180.993 2252.48 183.678 Q2255.67 186.363 2255.67 190.854 Q2255.67 192.983 2254.86 194.905 Q2254.08 196.803 2251.97 199.395 Q2251.39 200.067 2248.29 203.284 Q2245.19 206.479 2239.54 212.242 Z\" fill=\"#000000\" fill-rule=\"nonzero\" fill-opacity=\"1\" /><circle clip-path=\"url(#clip940)\" cx=\"2107.85\" cy=\"250.738\" r=\"20.48\" fill=\"#008000\" fill-rule=\"evenodd\" fill-opacity=\"1\" stroke=\"#000000\" stroke-opacity=\"1\" stroke-width=\"4.55111\"/>\n",
       "<path clip-path=\"url(#clip940)\" d=\"M2217.64 270.425 Q2215.84 275.055 2214.12 276.467 Q2212.41 277.879 2209.54 277.879 L2206.14 277.879 L2206.14 274.314 L2208.64 274.314 Q2210.4 274.314 2211.37 273.48 Q2212.34 272.647 2213.52 269.545 L2214.29 267.601 L2203.8 242.092 L2208.31 242.092 L2216.42 262.369 L2224.52 242.092 L2229.03 242.092 L2217.64 270.425 Z\" fill=\"#000000\" fill-rule=\"nonzero\" fill-opacity=\"1\" /><path clip-path=\"url(#clip940)\" d=\"M2249.68 249.383 Q2253.04 250.101 2254.91 252.369 Q2256.81 254.638 2256.81 257.971 Q2256.81 263.087 2253.29 265.888 Q2249.77 268.689 2243.29 268.689 Q2241.11 268.689 2238.8 268.249 Q2236.51 267.832 2234.05 266.976 L2234.05 262.462 Q2236 263.596 2238.31 264.175 Q2240.63 264.754 2243.15 264.754 Q2247.55 264.754 2249.84 263.018 Q2252.16 261.281 2252.16 257.971 Q2252.16 254.916 2250 253.203 Q2247.87 251.467 2244.05 251.467 L2240.03 251.467 L2240.03 247.624 L2244.24 247.624 Q2247.69 247.624 2249.52 246.258 Q2251.35 244.87 2251.35 242.277 Q2251.35 239.615 2249.45 238.203 Q2247.57 236.768 2244.05 236.768 Q2242.13 236.768 2239.93 237.184 Q2237.73 237.601 2235.1 238.481 L2235.1 234.314 Q2237.76 233.573 2240.07 233.203 Q2242.41 232.833 2244.47 232.833 Q2249.79 232.833 2252.9 235.263 Q2256 237.67 2256 241.791 Q2256 244.661 2254.35 246.652 Q2252.71 248.62 2249.68 249.383 Z\" fill=\"#000000\" fill-rule=\"nonzero\" fill-opacity=\"1\" /></svg>\n"
      ],
      "text/html": [
       "<?xml version=\"1.0\" encoding=\"utf-8\"?>\n",
       "<svg xmlns=\"http://www.w3.org/2000/svg\" xmlns:xlink=\"http://www.w3.org/1999/xlink\" width=\"600\" height=\"400\" viewBox=\"0 0 2400 1600\">\n",
       "<defs>\n",
       "  <clipPath id=\"clip990\">\n",
       "    <rect x=\"0\" y=\"0\" width=\"2400\" height=\"1600\"/>\n",
       "  </clipPath>\n",
       "</defs>\n",
       "<path clip-path=\"url(#clip990)\" d=\"M0 1600 L2400 1600 L2400 0 L0 0  Z\" fill=\"#ffffff\" fill-rule=\"evenodd\" fill-opacity=\"1\"/>\n",
       "<defs>\n",
       "  <clipPath id=\"clip991\">\n",
       "    <rect x=\"480\" y=\"0\" width=\"1681\" height=\"1600\"/>\n",
       "  </clipPath>\n",
       "</defs>\n",
       "<path clip-path=\"url(#clip990)\" d=\"M193.936 1486.45 L2352.76 1486.45 L2352.76 47.2441 L193.936 47.2441  Z\" fill=\"#ffffff\" fill-rule=\"evenodd\" fill-opacity=\"1\"/>\n",
       "<defs>\n",
       "  <clipPath id=\"clip992\">\n",
       "    <rect x=\"193\" y=\"47\" width=\"2160\" height=\"1440\"/>\n",
       "  </clipPath>\n",
       "</defs>\n",
       "<polyline clip-path=\"url(#clip992)\" style=\"stroke:#000000; stroke-linecap:round; stroke-linejoin:round; stroke-width:2; stroke-opacity:0.1; fill:none\" points=\"318.63,1486.45 318.63,47.2441 \"/>\n",
       "<polyline clip-path=\"url(#clip992)\" style=\"stroke:#000000; stroke-linecap:round; stroke-linejoin:round; stroke-width:2; stroke-opacity:0.1; fill:none\" points=\"962.916,1486.45 962.916,47.2441 \"/>\n",
       "<polyline clip-path=\"url(#clip992)\" style=\"stroke:#000000; stroke-linecap:round; stroke-linejoin:round; stroke-width:2; stroke-opacity:0.1; fill:none\" points=\"1607.2,1486.45 1607.2,47.2441 \"/>\n",
       "<polyline clip-path=\"url(#clip992)\" style=\"stroke:#000000; stroke-linecap:round; stroke-linejoin:round; stroke-width:2; stroke-opacity:0.1; fill:none\" points=\"2251.49,1486.45 2251.49,47.2441 \"/>\n",
       "<polyline clip-path=\"url(#clip990)\" style=\"stroke:#000000; stroke-linecap:round; stroke-linejoin:round; stroke-width:4; stroke-opacity:1; fill:none\" points=\"193.936,1486.45 2352.76,1486.45 \"/>\n",
       "<polyline clip-path=\"url(#clip990)\" style=\"stroke:#000000; stroke-linecap:round; stroke-linejoin:round; stroke-width:4; stroke-opacity:1; fill:none\" points=\"318.63,1486.45 318.63,1467.55 \"/>\n",
       "<polyline clip-path=\"url(#clip990)\" style=\"stroke:#000000; stroke-linecap:round; stroke-linejoin:round; stroke-width:4; stroke-opacity:1; fill:none\" points=\"962.916,1486.45 962.916,1467.55 \"/>\n",
       "<polyline clip-path=\"url(#clip990)\" style=\"stroke:#000000; stroke-linecap:round; stroke-linejoin:round; stroke-width:4; stroke-opacity:1; fill:none\" points=\"1607.2,1486.45 1607.2,1467.55 \"/>\n",
       "<polyline clip-path=\"url(#clip990)\" style=\"stroke:#000000; stroke-linecap:round; stroke-linejoin:round; stroke-width:4; stroke-opacity:1; fill:none\" points=\"2251.49,1486.45 2251.49,1467.55 \"/>\n",
       "<path clip-path=\"url(#clip990)\" d=\"M318.63 1517.37 Q315.019 1517.37 313.19 1520.93 Q311.384 1524.47 311.384 1531.6 Q311.384 1538.71 313.19 1542.27 Q315.019 1545.82 318.63 1545.82 Q322.264 1545.82 324.069 1542.27 Q325.898 1538.71 325.898 1531.6 Q325.898 1524.47 324.069 1520.93 Q322.264 1517.37 318.63 1517.37 M318.63 1513.66 Q324.44 1513.66 327.495 1518.27 Q330.574 1522.85 330.574 1531.6 Q330.574 1540.33 327.495 1544.94 Q324.44 1549.52 318.63 1549.52 Q312.819 1549.52 309.741 1544.94 Q306.685 1540.33 306.685 1531.6 Q306.685 1522.85 309.741 1518.27 Q312.819 1513.66 318.63 1513.66 Z\" fill=\"#000000\" fill-rule=\"nonzero\" fill-opacity=\"1\" /><path clip-path=\"url(#clip990)\" d=\"M953.194 1514.29 L971.551 1514.29 L971.551 1518.22 L957.477 1518.22 L957.477 1526.7 Q958.495 1526.35 959.514 1526.19 Q960.532 1526 961.551 1526 Q967.338 1526 970.717 1529.17 Q974.097 1532.34 974.097 1537.76 Q974.097 1543.34 970.625 1546.44 Q967.152 1549.52 960.833 1549.52 Q958.657 1549.52 956.389 1549.15 Q954.143 1548.78 951.736 1548.04 L951.736 1543.34 Q953.819 1544.47 956.041 1545.03 Q958.264 1545.58 960.74 1545.58 Q964.745 1545.58 967.083 1543.48 Q969.421 1541.37 969.421 1537.76 Q969.421 1534.15 967.083 1532.04 Q964.745 1529.94 960.74 1529.94 Q958.865 1529.94 956.99 1530.35 Q955.139 1530.77 953.194 1531.65 L953.194 1514.29 Z\" fill=\"#000000\" fill-rule=\"nonzero\" fill-opacity=\"1\" /><path clip-path=\"url(#clip990)\" d=\"M1581.89 1544.91 L1589.53 1544.91 L1589.53 1518.55 L1581.22 1520.21 L1581.22 1515.95 L1589.48 1514.29 L1594.16 1514.29 L1594.16 1544.91 L1601.8 1544.91 L1601.8 1548.85 L1581.89 1548.85 L1581.89 1544.91 Z\" fill=\"#000000\" fill-rule=\"nonzero\" fill-opacity=\"1\" /><path clip-path=\"url(#clip990)\" d=\"M1621.24 1517.37 Q1617.63 1517.37 1615.8 1520.93 Q1614 1524.47 1614 1531.6 Q1614 1538.71 1615.8 1542.27 Q1617.63 1545.82 1621.24 1545.82 Q1624.88 1545.82 1626.68 1542.27 Q1628.51 1538.71 1628.51 1531.6 Q1628.51 1524.47 1626.68 1520.93 Q1624.88 1517.37 1621.24 1517.37 M1621.24 1513.66 Q1627.05 1513.66 1630.11 1518.27 Q1633.19 1522.85 1633.19 1531.6 Q1633.19 1540.33 1630.11 1544.94 Q1627.05 1549.52 1621.24 1549.52 Q1615.43 1549.52 1612.35 1544.94 Q1609.3 1540.33 1609.3 1531.6 Q1609.3 1522.85 1612.35 1518.27 Q1615.43 1513.66 1621.24 1513.66 Z\" fill=\"#000000\" fill-rule=\"nonzero\" fill-opacity=\"1\" /><path clip-path=\"url(#clip990)\" d=\"M2226.68 1544.91 L2234.31 1544.91 L2234.31 1518.55 L2226 1520.21 L2226 1515.95 L2234.27 1514.29 L2238.94 1514.29 L2238.94 1544.91 L2246.58 1544.91 L2246.58 1548.85 L2226.68 1548.85 L2226.68 1544.91 Z\" fill=\"#000000\" fill-rule=\"nonzero\" fill-opacity=\"1\" /><path clip-path=\"url(#clip990)\" d=\"M2256.07 1514.29 L2274.43 1514.29 L2274.43 1518.22 L2260.36 1518.22 L2260.36 1526.7 Q2261.37 1526.35 2262.39 1526.19 Q2263.41 1526 2264.43 1526 Q2270.22 1526 2273.6 1529.17 Q2276.98 1532.34 2276.98 1537.76 Q2276.98 1543.34 2273.5 1546.44 Q2270.03 1549.52 2263.71 1549.52 Q2261.54 1549.52 2259.27 1549.15 Q2257.02 1548.78 2254.61 1548.04 L2254.61 1543.34 Q2256.7 1544.47 2258.92 1545.03 Q2261.14 1545.58 2263.62 1545.58 Q2267.62 1545.58 2269.96 1543.48 Q2272.3 1541.37 2272.3 1537.76 Q2272.3 1534.15 2269.96 1532.04 Q2267.62 1529.94 2263.62 1529.94 Q2261.74 1529.94 2259.87 1530.35 Q2258.02 1530.77 2256.07 1531.65 L2256.07 1514.29 Z\" fill=\"#000000\" fill-rule=\"nonzero\" fill-opacity=\"1\" /><polyline clip-path=\"url(#clip992)\" style=\"stroke:#000000; stroke-linecap:round; stroke-linejoin:round; stroke-width:2; stroke-opacity:0.1; fill:none\" points=\"193.936,1486.45 2352.76,1486.45 \"/>\n",
       "<polyline clip-path=\"url(#clip992)\" style=\"stroke:#000000; stroke-linecap:round; stroke-linejoin:round; stroke-width:2; stroke-opacity:0.1; fill:none\" points=\"193.936,1126.65 2352.76,1126.65 \"/>\n",
       "<polyline clip-path=\"url(#clip992)\" style=\"stroke:#000000; stroke-linecap:round; stroke-linejoin:round; stroke-width:2; stroke-opacity:0.1; fill:none\" points=\"193.936,766.846 2352.76,766.846 \"/>\n",
       "<polyline clip-path=\"url(#clip992)\" style=\"stroke:#000000; stroke-linecap:round; stroke-linejoin:round; stroke-width:2; stroke-opacity:0.1; fill:none\" points=\"193.936,407.045 2352.76,407.045 \"/>\n",
       "<polyline clip-path=\"url(#clip992)\" style=\"stroke:#000000; stroke-linecap:round; stroke-linejoin:round; stroke-width:2; stroke-opacity:0.1; fill:none\" points=\"193.936,47.2441 2352.76,47.2441 \"/>\n",
       "<polyline clip-path=\"url(#clip990)\" style=\"stroke:#000000; stroke-linecap:round; stroke-linejoin:round; stroke-width:4; stroke-opacity:1; fill:none\" points=\"193.936,1486.45 193.936,47.2441 \"/>\n",
       "<polyline clip-path=\"url(#clip990)\" style=\"stroke:#000000; stroke-linecap:round; stroke-linejoin:round; stroke-width:4; stroke-opacity:1; fill:none\" points=\"193.936,1486.45 212.834,1486.45 \"/>\n",
       "<polyline clip-path=\"url(#clip990)\" style=\"stroke:#000000; stroke-linecap:round; stroke-linejoin:round; stroke-width:4; stroke-opacity:1; fill:none\" points=\"193.936,1126.65 212.834,1126.65 \"/>\n",
       "<polyline clip-path=\"url(#clip990)\" style=\"stroke:#000000; stroke-linecap:round; stroke-linejoin:round; stroke-width:4; stroke-opacity:1; fill:none\" points=\"193.936,766.846 212.834,766.846 \"/>\n",
       "<polyline clip-path=\"url(#clip990)\" style=\"stroke:#000000; stroke-linecap:round; stroke-linejoin:round; stroke-width:4; stroke-opacity:1; fill:none\" points=\"193.936,407.045 212.834,407.045 \"/>\n",
       "<polyline clip-path=\"url(#clip990)\" style=\"stroke:#000000; stroke-linecap:round; stroke-linejoin:round; stroke-width:4; stroke-opacity:1; fill:none\" points=\"193.936,47.2441 212.834,47.2441 \"/>\n",
       "<path clip-path=\"url(#clip990)\" d=\"M50.9921 1486.9 L80.6679 1486.9 L80.6679 1490.83 L50.9921 1490.83 L50.9921 1486.9 Z\" fill=\"#000000\" fill-rule=\"nonzero\" fill-opacity=\"1\" /><path clip-path=\"url(#clip990)\" d=\"M91.5706 1499.79 L99.2095 1499.79 L99.2095 1473.43 L90.8993 1475.09 L90.8993 1470.83 L99.1632 1469.17 L103.839 1469.17 L103.839 1499.79 L111.478 1499.79 L111.478 1503.73 L91.5706 1503.73 L91.5706 1499.79 Z\" fill=\"#000000\" fill-rule=\"nonzero\" fill-opacity=\"1\" /><path clip-path=\"url(#clip990)\" d=\"M120.922 1497.85 L125.807 1497.85 L125.807 1503.73 L120.922 1503.73 L120.922 1497.85 Z\" fill=\"#000000\" fill-rule=\"nonzero\" fill-opacity=\"1\" /><path clip-path=\"url(#clip990)\" d=\"M145.992 1472.25 Q142.381 1472.25 140.552 1475.81 Q138.746 1479.35 138.746 1486.48 Q138.746 1493.59 140.552 1497.15 Q142.381 1500.7 145.992 1500.7 Q149.626 1500.7 151.431 1497.15 Q153.26 1493.59 153.26 1486.48 Q153.26 1479.35 151.431 1475.81 Q149.626 1472.25 145.992 1472.25 M145.992 1468.54 Q151.802 1468.54 154.857 1473.15 Q157.936 1477.73 157.936 1486.48 Q157.936 1495.21 154.857 1499.82 Q151.802 1504.4 145.992 1504.4 Q140.181 1504.4 137.103 1499.82 Q134.047 1495.21 134.047 1486.48 Q134.047 1477.73 137.103 1473.15 Q140.181 1468.54 145.992 1468.54 Z\" fill=\"#000000\" fill-rule=\"nonzero\" fill-opacity=\"1\" /><path clip-path=\"url(#clip990)\" d=\"M51.9875 1127.1 L81.6633 1127.1 L81.6633 1131.03 L51.9875 1131.03 L51.9875 1127.1 Z\" fill=\"#000000\" fill-rule=\"nonzero\" fill-opacity=\"1\" /><path clip-path=\"url(#clip990)\" d=\"M101.756 1112.45 Q98.1447 1112.45 96.316 1116.01 Q94.5104 1119.55 94.5104 1126.68 Q94.5104 1133.79 96.316 1137.35 Q98.1447 1140.89 101.756 1140.89 Q105.39 1140.89 107.196 1137.35 Q109.024 1133.79 109.024 1126.68 Q109.024 1119.55 107.196 1116.01 Q105.39 1112.45 101.756 1112.45 M101.756 1108.74 Q107.566 1108.74 110.621 1113.35 Q113.7 1117.93 113.7 1126.68 Q113.7 1135.41 110.621 1140.01 Q107.566 1144.6 101.756 1144.6 Q95.9456 1144.6 92.8669 1140.01 Q89.8114 1135.41 89.8114 1126.68 Q89.8114 1117.93 92.8669 1113.35 Q95.9456 1108.74 101.756 1108.74 Z\" fill=\"#000000\" fill-rule=\"nonzero\" fill-opacity=\"1\" /><path clip-path=\"url(#clip990)\" d=\"M121.918 1138.05 L126.802 1138.05 L126.802 1143.93 L121.918 1143.93 L121.918 1138.05 Z\" fill=\"#000000\" fill-rule=\"nonzero\" fill-opacity=\"1\" /><path clip-path=\"url(#clip990)\" d=\"M137.033 1109.37 L155.39 1109.37 L155.39 1113.3 L141.316 1113.3 L141.316 1121.77 Q142.334 1121.43 143.353 1121.27 Q144.371 1121.08 145.39 1121.08 Q151.177 1121.08 154.556 1124.25 Q157.936 1127.42 157.936 1132.84 Q157.936 1138.42 154.464 1141.52 Q150.992 1144.6 144.672 1144.6 Q142.496 1144.6 140.228 1144.23 Q137.982 1143.86 135.575 1143.12 L135.575 1138.42 Q137.658 1139.55 139.881 1140.11 Q142.103 1140.66 144.58 1140.66 Q148.584 1140.66 150.922 1138.56 Q153.26 1136.45 153.26 1132.84 Q153.26 1129.23 150.922 1127.12 Q148.584 1125.01 144.58 1125.01 Q142.705 1125.01 140.83 1125.43 Q138.978 1125.85 137.033 1126.73 L137.033 1109.37 Z\" fill=\"#000000\" fill-rule=\"nonzero\" fill-opacity=\"1\" /><path clip-path=\"url(#clip990)\" d=\"M100.76 752.645 Q97.1493 752.645 95.3206 756.209 Q93.515 759.751 93.515 766.881 Q93.515 773.987 95.3206 777.552 Q97.1493 781.094 100.76 781.094 Q104.395 781.094 106.2 777.552 Q108.029 773.987 108.029 766.881 Q108.029 759.751 106.2 756.209 Q104.395 752.645 100.76 752.645 M100.76 748.941 Q106.571 748.941 109.626 753.547 Q112.705 758.131 112.705 766.881 Q112.705 775.608 109.626 780.214 Q106.571 784.797 100.76 784.797 Q94.9502 784.797 91.8715 780.214 Q88.816 775.608 88.816 766.881 Q88.816 758.131 91.8715 753.547 Q94.9502 748.941 100.76 748.941 Z\" fill=\"#000000\" fill-rule=\"nonzero\" fill-opacity=\"1\" /><path clip-path=\"url(#clip990)\" d=\"M120.922 778.246 L125.807 778.246 L125.807 784.126 L120.922 784.126 L120.922 778.246 Z\" fill=\"#000000\" fill-rule=\"nonzero\" fill-opacity=\"1\" /><path clip-path=\"url(#clip990)\" d=\"M145.992 752.645 Q142.381 752.645 140.552 756.209 Q138.746 759.751 138.746 766.881 Q138.746 773.987 140.552 777.552 Q142.381 781.094 145.992 781.094 Q149.626 781.094 151.431 777.552 Q153.26 773.987 153.26 766.881 Q153.26 759.751 151.431 756.209 Q149.626 752.645 145.992 752.645 M145.992 748.941 Q151.802 748.941 154.857 753.547 Q157.936 758.131 157.936 766.881 Q157.936 775.608 154.857 780.214 Q151.802 784.797 145.992 784.797 Q140.181 784.797 137.103 780.214 Q134.047 775.608 134.047 766.881 Q134.047 758.131 137.103 753.547 Q140.181 748.941 145.992 748.941 Z\" fill=\"#000000\" fill-rule=\"nonzero\" fill-opacity=\"1\" /><path clip-path=\"url(#clip990)\" d=\"M101.756 392.844 Q98.1447 392.844 96.316 396.409 Q94.5104 399.95 94.5104 407.08 Q94.5104 414.186 96.316 417.751 Q98.1447 421.293 101.756 421.293 Q105.39 421.293 107.196 417.751 Q109.024 414.186 109.024 407.08 Q109.024 399.95 107.196 396.409 Q105.39 392.844 101.756 392.844 M101.756 389.14 Q107.566 389.14 110.621 393.746 Q113.7 398.33 113.7 407.08 Q113.7 415.807 110.621 420.413 Q107.566 424.996 101.756 424.996 Q95.9456 424.996 92.8669 420.413 Q89.8114 415.807 89.8114 407.08 Q89.8114 398.33 92.8669 393.746 Q95.9456 389.14 101.756 389.14 Z\" fill=\"#000000\" fill-rule=\"nonzero\" fill-opacity=\"1\" /><path clip-path=\"url(#clip990)\" d=\"M121.918 418.445 L126.802 418.445 L126.802 424.325 L121.918 424.325 L121.918 418.445 Z\" fill=\"#000000\" fill-rule=\"nonzero\" fill-opacity=\"1\" /><path clip-path=\"url(#clip990)\" d=\"M137.033 389.765 L155.39 389.765 L155.39 393.7 L141.316 393.7 L141.316 402.172 Q142.334 401.825 143.353 401.663 Q144.371 401.478 145.39 401.478 Q151.177 401.478 154.556 404.649 Q157.936 407.82 157.936 413.237 Q157.936 418.816 154.464 421.918 Q150.992 424.996 144.672 424.996 Q142.496 424.996 140.228 424.626 Q137.982 424.256 135.575 423.515 L135.575 418.816 Q137.658 419.95 139.881 420.506 Q142.103 421.061 144.58 421.061 Q148.584 421.061 150.922 418.955 Q153.26 416.848 153.26 413.237 Q153.26 409.626 150.922 407.52 Q148.584 405.413 144.58 405.413 Q142.705 405.413 140.83 405.83 Q138.978 406.246 137.033 407.126 L137.033 389.765 Z\" fill=\"#000000\" fill-rule=\"nonzero\" fill-opacity=\"1\" /><path clip-path=\"url(#clip990)\" d=\"M91.5706 60.5889 L99.2095 60.5889 L99.2095 34.2233 L90.8993 35.89 L90.8993 31.6308 L99.1632 29.9641 L103.839 29.9641 L103.839 60.5889 L111.478 60.5889 L111.478 64.5241 L91.5706 64.5241 L91.5706 60.5889 Z\" fill=\"#000000\" fill-rule=\"nonzero\" fill-opacity=\"1\" /><path clip-path=\"url(#clip990)\" d=\"M120.922 58.6445 L125.807 58.6445 L125.807 64.5241 L120.922 64.5241 L120.922 58.6445 Z\" fill=\"#000000\" fill-rule=\"nonzero\" fill-opacity=\"1\" /><path clip-path=\"url(#clip990)\" d=\"M145.992 33.0428 Q142.381 33.0428 140.552 36.6076 Q138.746 40.1492 138.746 47.2788 Q138.746 54.3853 140.552 57.9501 Q142.381 61.4917 145.992 61.4917 Q149.626 61.4917 151.431 57.9501 Q153.26 54.3853 153.26 47.2788 Q153.26 40.1492 151.431 36.6076 Q149.626 33.0428 145.992 33.0428 M145.992 29.3391 Q151.802 29.3391 154.857 33.9456 Q157.936 38.5289 157.936 47.2788 Q157.936 56.0056 154.857 60.6121 Q151.802 65.1954 145.992 65.1954 Q140.181 65.1954 137.103 60.6121 Q134.047 56.0056 134.047 47.2788 Q134.047 38.5289 137.103 33.9456 Q140.181 29.3391 145.992 29.3391 Z\" fill=\"#000000\" fill-rule=\"nonzero\" fill-opacity=\"1\" /><circle clip-path=\"url(#clip992)\" cx=\"255.035\" cy=\"766.846\" r=\"14.4\" fill=\"#009af9\" fill-rule=\"evenodd\" fill-opacity=\"1\" stroke=\"#000000\" stroke-opacity=\"1\" stroke-width=\"3.2\"/>\n",
       "<circle clip-path=\"url(#clip992)\" cx=\"377.611\" cy=\"766.846\" r=\"14.4\" fill=\"#009af9\" fill-rule=\"evenodd\" fill-opacity=\"1\" stroke=\"#000000\" stroke-opacity=\"1\" stroke-width=\"3.2\"/>\n",
       "<circle clip-path=\"url(#clip992)\" cx=\"494.975\" cy=\"766.846\" r=\"14.4\" fill=\"#009af9\" fill-rule=\"evenodd\" fill-opacity=\"1\" stroke=\"#000000\" stroke-opacity=\"1\" stroke-width=\"3.2\"/>\n",
       "<circle clip-path=\"url(#clip992)\" cx=\"630.289\" cy=\"766.846\" r=\"14.4\" fill=\"#009af9\" fill-rule=\"evenodd\" fill-opacity=\"1\" stroke=\"#000000\" stroke-opacity=\"1\" stroke-width=\"3.2\"/>\n",
       "<circle clip-path=\"url(#clip992)\" cx=\"800.059\" cy=\"766.846\" r=\"14.4\" fill=\"#009af9\" fill-rule=\"evenodd\" fill-opacity=\"1\" stroke=\"#000000\" stroke-opacity=\"1\" stroke-width=\"3.2\"/>\n",
       "<circle clip-path=\"url(#clip992)\" cx=\"1008.5\" cy=\"766.846\" r=\"14.4\" fill=\"#009af9\" fill-rule=\"evenodd\" fill-opacity=\"1\" stroke=\"#000000\" stroke-opacity=\"1\" stroke-width=\"3.2\"/>\n",
       "<circle clip-path=\"url(#clip992)\" cx=\"1255.65\" cy=\"766.846\" r=\"14.4\" fill=\"#009af9\" fill-rule=\"evenodd\" fill-opacity=\"1\" stroke=\"#000000\" stroke-opacity=\"1\" stroke-width=\"3.2\"/>\n",
       "<circle clip-path=\"url(#clip992)\" cx=\"1541.26\" cy=\"766.846\" r=\"14.4\" fill=\"#009af9\" fill-rule=\"evenodd\" fill-opacity=\"1\" stroke=\"#000000\" stroke-opacity=\"1\" stroke-width=\"3.2\"/>\n",
       "<circle clip-path=\"url(#clip992)\" cx=\"1865.19\" cy=\"766.846\" r=\"14.4\" fill=\"#009af9\" fill-rule=\"evenodd\" fill-opacity=\"1\" stroke=\"#000000\" stroke-opacity=\"1\" stroke-width=\"3.2\"/>\n",
       "<circle clip-path=\"url(#clip992)\" cx=\"2227.39\" cy=\"766.846\" r=\"14.4\" fill=\"#009af9\" fill-rule=\"evenodd\" fill-opacity=\"1\" stroke=\"#000000\" stroke-opacity=\"1\" stroke-width=\"3.2\"/>\n",
       "<circle clip-path=\"url(#clip992)\" cx=\"365.922\" cy=\"766.846\" r=\"14.4\" fill=\"#ff0000\" fill-rule=\"evenodd\" fill-opacity=\"1\" stroke=\"#000000\" stroke-opacity=\"1\" stroke-width=\"3.2\"/>\n",
       "<circle clip-path=\"url(#clip992)\" cx=\"439.891\" cy=\"766.846\" r=\"14.4\" fill=\"#ff0000\" fill-rule=\"evenodd\" fill-opacity=\"1\" stroke=\"#000000\" stroke-opacity=\"1\" stroke-width=\"3.2\"/>\n",
       "<circle clip-path=\"url(#clip992)\" cx=\"512.835\" cy=\"766.846\" r=\"14.4\" fill=\"#ff0000\" fill-rule=\"evenodd\" fill-opacity=\"1\" stroke=\"#000000\" stroke-opacity=\"1\" stroke-width=\"3.2\"/>\n",
       "<circle clip-path=\"url(#clip992)\" cx=\"632.276\" cy=\"766.846\" r=\"14.4\" fill=\"#ff0000\" fill-rule=\"evenodd\" fill-opacity=\"1\" stroke=\"#000000\" stroke-opacity=\"1\" stroke-width=\"3.2\"/>\n",
       "<circle clip-path=\"url(#clip992)\" cx=\"800.168\" cy=\"766.846\" r=\"14.4\" fill=\"#ff0000\" fill-rule=\"evenodd\" fill-opacity=\"1\" stroke=\"#000000\" stroke-opacity=\"1\" stroke-width=\"3.2\"/>\n",
       "<circle clip-path=\"url(#clip992)\" cx=\"1008.51\" cy=\"766.846\" r=\"14.4\" fill=\"#ff0000\" fill-rule=\"evenodd\" fill-opacity=\"1\" stroke=\"#000000\" stroke-opacity=\"1\" stroke-width=\"3.2\"/>\n",
       "<circle clip-path=\"url(#clip992)\" cx=\"1255.65\" cy=\"766.846\" r=\"14.4\" fill=\"#ff0000\" fill-rule=\"evenodd\" fill-opacity=\"1\" stroke=\"#000000\" stroke-opacity=\"1\" stroke-width=\"3.2\"/>\n",
       "<circle clip-path=\"url(#clip992)\" cx=\"1541.26\" cy=\"766.846\" r=\"14.4\" fill=\"#ff0000\" fill-rule=\"evenodd\" fill-opacity=\"1\" stroke=\"#000000\" stroke-opacity=\"1\" stroke-width=\"3.2\"/>\n",
       "<circle clip-path=\"url(#clip992)\" cx=\"1865.19\" cy=\"766.846\" r=\"14.4\" fill=\"#ff0000\" fill-rule=\"evenodd\" fill-opacity=\"1\" stroke=\"#000000\" stroke-opacity=\"1\" stroke-width=\"3.2\"/>\n",
       "<circle clip-path=\"url(#clip992)\" cx=\"2227.39\" cy=\"766.846\" r=\"14.4\" fill=\"#ff0000\" fill-rule=\"evenodd\" fill-opacity=\"1\" stroke=\"#000000\" stroke-opacity=\"1\" stroke-width=\"3.2\"/>\n",
       "<circle clip-path=\"url(#clip992)\" cx=\"404.318\" cy=\"766.846\" r=\"14.4\" fill=\"#008000\" fill-rule=\"evenodd\" fill-opacity=\"1\" stroke=\"#000000\" stroke-opacity=\"1\" stroke-width=\"3.2\"/>\n",
       "<circle clip-path=\"url(#clip992)\" cx=\"468.976\" cy=\"766.846\" r=\"14.4\" fill=\"#008000\" fill-rule=\"evenodd\" fill-opacity=\"1\" stroke=\"#000000\" stroke-opacity=\"1\" stroke-width=\"3.2\"/>\n",
       "<circle clip-path=\"url(#clip992)\" cx=\"571.84\" cy=\"766.846\" r=\"14.4\" fill=\"#008000\" fill-rule=\"evenodd\" fill-opacity=\"1\" stroke=\"#000000\" stroke-opacity=\"1\" stroke-width=\"3.2\"/>\n",
       "<circle clip-path=\"url(#clip992)\" cx=\"695.519\" cy=\"766.846\" r=\"14.4\" fill=\"#008000\" fill-rule=\"evenodd\" fill-opacity=\"1\" stroke=\"#000000\" stroke-opacity=\"1\" stroke-width=\"3.2\"/>\n",
       "<circle clip-path=\"url(#clip992)\" cx=\"864.374\" cy=\"766.846\" r=\"14.4\" fill=\"#008000\" fill-rule=\"evenodd\" fill-opacity=\"1\" stroke=\"#000000\" stroke-opacity=\"1\" stroke-width=\"3.2\"/>\n",
       "<circle clip-path=\"url(#clip992)\" cx=\"1072.78\" cy=\"766.846\" r=\"14.4\" fill=\"#008000\" fill-rule=\"evenodd\" fill-opacity=\"1\" stroke=\"#000000\" stroke-opacity=\"1\" stroke-width=\"3.2\"/>\n",
       "<circle clip-path=\"url(#clip992)\" cx=\"1319.92\" cy=\"766.846\" r=\"14.4\" fill=\"#008000\" fill-rule=\"evenodd\" fill-opacity=\"1\" stroke=\"#000000\" stroke-opacity=\"1\" stroke-width=\"3.2\"/>\n",
       "<circle clip-path=\"url(#clip992)\" cx=\"1605.53\" cy=\"766.846\" r=\"14.4\" fill=\"#008000\" fill-rule=\"evenodd\" fill-opacity=\"1\" stroke=\"#000000\" stroke-opacity=\"1\" stroke-width=\"3.2\"/>\n",
       "<circle clip-path=\"url(#clip992)\" cx=\"1929.46\" cy=\"766.846\" r=\"14.4\" fill=\"#008000\" fill-rule=\"evenodd\" fill-opacity=\"1\" stroke=\"#000000\" stroke-opacity=\"1\" stroke-width=\"3.2\"/>\n",
       "<circle clip-path=\"url(#clip992)\" cx=\"2291.66\" cy=\"766.846\" r=\"14.4\" fill=\"#008000\" fill-rule=\"evenodd\" fill-opacity=\"1\" stroke=\"#000000\" stroke-opacity=\"1\" stroke-width=\"3.2\"/>\n",
       "<path clip-path=\"url(#clip990)\" d=\"M2011.9 302.578 L2280.8 302.578 L2280.8 95.2176 L2011.9 95.2176  Z\" fill=\"#ffffff\" fill-rule=\"evenodd\" fill-opacity=\"1\"/>\n",
       "<polyline clip-path=\"url(#clip990)\" style=\"stroke:#000000; stroke-linecap:round; stroke-linejoin:round; stroke-width:4; stroke-opacity:1; fill:none\" points=\"2011.9,302.578 2280.8,302.578 2280.8,95.2176 2011.9,95.2176 2011.9,302.578 \"/>\n",
       "<circle clip-path=\"url(#clip990)\" cx=\"2107.85\" cy=\"147.058\" r=\"20.48\" fill=\"#009af9\" fill-rule=\"evenodd\" fill-opacity=\"1\" stroke=\"#000000\" stroke-opacity=\"1\" stroke-width=\"4.55111\"/>\n",
       "<path clip-path=\"url(#clip990)\" d=\"M2217.64 166.745 Q2215.84 171.375 2214.12 172.787 Q2212.41 174.199 2209.54 174.199 L2206.14 174.199 L2206.14 170.634 L2208.64 170.634 Q2210.4 170.634 2211.37 169.8 Q2212.34 168.967 2213.52 165.865 L2214.29 163.921 L2203.8 138.412 L2208.31 138.412 L2216.42 158.689 L2224.52 138.412 L2229.03 138.412 L2217.64 166.745 Z\" fill=\"#000000\" fill-rule=\"nonzero\" fill-opacity=\"1\" /><path clip-path=\"url(#clip990)\" d=\"M2236.32 160.402 L2243.96 160.402 L2243.96 134.037 L2235.65 135.703 L2235.65 131.444 L2243.91 129.778 L2248.59 129.778 L2248.59 160.402 L2256.23 160.402 L2256.23 164.338 L2236.32 164.338 L2236.32 160.402 Z\" fill=\"#000000\" fill-rule=\"nonzero\" fill-opacity=\"1\" /><circle clip-path=\"url(#clip990)\" cx=\"2107.85\" cy=\"198.898\" r=\"20.48\" fill=\"#ff0000\" fill-rule=\"evenodd\" fill-opacity=\"1\" stroke=\"#000000\" stroke-opacity=\"1\" stroke-width=\"4.55111\"/>\n",
       "<path clip-path=\"url(#clip990)\" d=\"M2217.64 218.585 Q2215.84 223.215 2214.12 224.627 Q2212.41 226.039 2209.54 226.039 L2206.14 226.039 L2206.14 222.474 L2208.64 222.474 Q2210.4 222.474 2211.37 221.64 Q2212.34 220.807 2213.52 217.705 L2214.29 215.761 L2203.8 190.252 L2208.31 190.252 L2216.42 210.529 L2224.52 190.252 L2229.03 190.252 L2217.64 218.585 Z\" fill=\"#000000\" fill-rule=\"nonzero\" fill-opacity=\"1\" /><path clip-path=\"url(#clip990)\" d=\"M2239.54 212.242 L2255.86 212.242 L2255.86 216.178 L2233.91 216.178 L2233.91 212.242 Q2236.58 209.488 2241.16 204.858 Q2245.77 200.205 2246.95 198.863 Q2249.19 196.34 2250.07 194.604 Q2250.98 192.844 2250.98 191.155 Q2250.98 188.4 2249.03 186.664 Q2247.11 184.928 2244.01 184.928 Q2241.81 184.928 2239.35 185.692 Q2236.92 186.455 2234.15 188.006 L2234.15 183.284 Q2236.97 182.15 2239.42 181.571 Q2241.88 180.993 2243.91 180.993 Q2249.29 180.993 2252.48 183.678 Q2255.67 186.363 2255.67 190.854 Q2255.67 192.983 2254.86 194.905 Q2254.08 196.803 2251.97 199.395 Q2251.39 200.067 2248.29 203.284 Q2245.19 206.479 2239.54 212.242 Z\" fill=\"#000000\" fill-rule=\"nonzero\" fill-opacity=\"1\" /><circle clip-path=\"url(#clip990)\" cx=\"2107.85\" cy=\"250.738\" r=\"20.48\" fill=\"#008000\" fill-rule=\"evenodd\" fill-opacity=\"1\" stroke=\"#000000\" stroke-opacity=\"1\" stroke-width=\"4.55111\"/>\n",
       "<path clip-path=\"url(#clip990)\" d=\"M2217.64 270.425 Q2215.84 275.055 2214.12 276.467 Q2212.41 277.879 2209.54 277.879 L2206.14 277.879 L2206.14 274.314 L2208.64 274.314 Q2210.4 274.314 2211.37 273.48 Q2212.34 272.647 2213.52 269.545 L2214.29 267.601 L2203.8 242.092 L2208.31 242.092 L2216.42 262.369 L2224.52 242.092 L2229.03 242.092 L2217.64 270.425 Z\" fill=\"#000000\" fill-rule=\"nonzero\" fill-opacity=\"1\" /><path clip-path=\"url(#clip990)\" d=\"M2249.68 249.383 Q2253.04 250.101 2254.91 252.369 Q2256.81 254.638 2256.81 257.971 Q2256.81 263.087 2253.29 265.888 Q2249.77 268.689 2243.29 268.689 Q2241.11 268.689 2238.8 268.249 Q2236.51 267.832 2234.05 266.976 L2234.05 262.462 Q2236 263.596 2238.31 264.175 Q2240.63 264.754 2243.15 264.754 Q2247.55 264.754 2249.84 263.018 Q2252.16 261.281 2252.16 257.971 Q2252.16 254.916 2250 253.203 Q2247.87 251.467 2244.05 251.467 L2240.03 251.467 L2240.03 247.624 L2244.24 247.624 Q2247.69 247.624 2249.52 246.258 Q2251.35 244.87 2251.35 242.277 Q2251.35 239.615 2249.45 238.203 Q2247.57 236.768 2244.05 236.768 Q2242.13 236.768 2239.93 237.184 Q2237.73 237.601 2235.1 238.481 L2235.1 234.314 Q2237.76 233.573 2240.07 233.203 Q2242.41 232.833 2244.47 232.833 Q2249.79 232.833 2252.9 235.263 Q2256 237.67 2256 241.791 Q2256 244.661 2254.35 246.652 Q2252.71 248.62 2249.68 249.383 Z\" fill=\"#000000\" fill-rule=\"nonzero\" fill-opacity=\"1\" /></svg>\n"
      ]
     },
     "execution_count": 24,
     "metadata": {},
     "output_type": "execute_result"
    }
   ],
   "source": [
    "scatter(gaps[:,1],0*gaps[:,1], yaxis = [-1,1])\n",
    "scatter!(gaps[:,2],0*gaps[:,1],markercolor = :red)\n",
    "scatter!(dir_evals_shift,0*dir_evals,markercolor = :green)"
   ]
  },
  {
   "cell_type": "code",
   "execution_count": null,
   "id": "4852ad8b",
   "metadata": {},
   "outputs": [],
   "source": []
  }
 ],
 "metadata": {
  "kernelspec": {
   "display_name": "Julia 1.9.0",
   "language": "julia",
   "name": "julia-1.9"
  },
  "language_info": {
   "file_extension": ".jl",
   "mimetype": "application/julia",
   "name": "julia",
   "version": "1.9.0"
  }
 },
 "nbformat": 4,
 "nbformat_minor": 5
}
